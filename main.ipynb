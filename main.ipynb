{
 "metadata": {
  "language_info": {
   "codemirror_mode": {
    "name": "ipython",
    "version": 3
   },
   "file_extension": ".py",
   "mimetype": "text/x-python",
   "name": "python",
   "nbconvert_exporter": "python",
   "pygments_lexer": "ipython3",
   "version": "3.7.3-final"
  },
  "orig_nbformat": 2,
  "kernelspec": {
   "name": "python3",
   "display_name": "Python 3.7.3 32-bit",
   "metadata": {
    "interpreter": {
     "hash": "14ba8550e4b5297708c8210aad8b33fb7581226caaa50346e28971de3ff05e1f"
    }
   }
  }
 },
 "nbformat": 4,
 "nbformat_minor": 2,
 "cells": [
  {
   "source": [
    "# CS-2376 Apriori Algorithm\n",
    "### Team Members\n",
    "1. Jenish Raj Bajracharya\n",
    "2. Nidup Dorji\n",
    "3. Satpreet Makhija\n"
   ],
   "cell_type": "markdown",
   "metadata": {}
  },
  {
   "cell_type": "code",
   "execution_count": 79,
   "metadata": {},
   "outputs": [],
   "source": [
    "import pandas as pd\n",
    "import numpy as np\n",
    "import operator\n",
    "from itertools import combinations\n",
    "import csv"
   ]
  },
  {
   "source": [
    "## Data Pre-processing\n",
    "1. Reading Data\n",
    "2. Getting unique dataset"
   ],
   "cell_type": "markdown",
   "metadata": {}
  },
  {
   "cell_type": "code",
   "execution_count": 2,
   "metadata": {
    "tags": []
   },
   "outputs": [],
   "source": [
    "dataframe = pd.read_csv(\"dataset/tesco2.csv\", header=None)\n",
    "# dataframe.head()\n",
    "dataframe = dataframe.values\n",
    "\n",
    "data = set()\n",
    "for items in dataframe:\n",
    "    for sub_item in items:\n",
    "        data.add(sub_item)\n",
    "\n",
    "min_support = int(input(\"Enter support \"))\n",
    "min_confidence = float(input(\"Enter confidence level \"))\n",
    "# unique_data = list(data)\n",
    "# print(unique_data)\n",
    "\n"
   ]
  },
  {
   "cell_type": "code",
   "execution_count": 3,
   "metadata": {},
   "outputs": [],
   "source": [
    "\n",
    "def get_frequent_1_set(min_support, dataframe, data):\n",
    "    temp_data = dict()\n",
    "    itemset = data\n",
    "    for i in itemset:\n",
    "        count = 0\n",
    "        for d in dataframe:\n",
    "            if i in d:\n",
    "                count += 1\n",
    "        temp_data[i] = count\n",
    "        if temp_data[i] < min_support:\n",
    "            temp_data.pop(i)\n",
    "    # return list(temp_data.keys())\n",
    "    return sorted(temp_data.keys(), key=operator.itemgetter(0))\n",
    "\n",
    "\n",
    "# def get_item_combination():\n",
    "F1 = get_frequent_1_set(min_support, dataframe, data) \n",
    "# print(F1)"
   ]
  },
  {
   "cell_type": "code",
   "execution_count": 4,
   "metadata": {},
   "outputs": [],
   "source": [
    "\n",
    "def generate_candidate(array, size): # L1 is a list from get_freauent_set\n",
    "    return sum([list(map(set, combinations(array, size)))], [])\n",
    "  \n",
    "# print(generate_candidate(F1,4))\n"
   ]
  },
  {
   "cell_type": "code",
   "execution_count": 5,
   "metadata": {},
   "outputs": [],
   "source": [
    "\n",
    "# Lk_1 = [['apple', 'beer'], ['apple', 'rice'], ['beer', 'chicken'], ['beer', 'milk'], ['beer', 'rice'], ['chicken', 'rice'], ['milk', 'rice']]\n",
    "def apriori_gen(Lk_1, k):\n",
    "    ck = [] \n",
    "    for i in Lk_1:\n",
    "       \n",
    "        for j in Lk_1:\n",
    "           \n",
    "            index = 0\n",
    "            buffer = []\n",
    "            if i == j:\n",
    "                pass\n",
    "            else:\n",
    "                while k-1 > index:\n",
    "                    if i[index] == j[index]:\n",
    "                        index += 1\n",
    "                    else:\n",
    "                        break\n",
    "                else:\n",
    "                    if i[k-1] > j[k-1]:\n",
    "                        \n",
    "                        for item in i:\n",
    "                            buffer.append(item)\n",
    "                        buffer.append(j[k-1])\n",
    "                        check = generate_candidate(buffer, k)\n",
    "                        count = 0\n",
    "                        for c in check:\n",
    "                            sorting = sorted(c)\n",
    "                            if list(sorting) in Lk_1:\n",
    "                                count += 1\n",
    "                        if count == len(check):\n",
    "                            ck.append(sorted(buffer))\n",
    "                           \n",
    "    return ck\n",
    "                        \n",
    "\n"
   ]
  },
  {
   "cell_type": "code",
   "execution_count": 106,
   "metadata": {},
   "outputs": [],
   "source": [
    "def get_frequent_set(min_support, dataframe):\n",
    "    F1 = get_frequent_1_set(min_support, dataframe, data)\n",
    "    Fk_1 = []\n",
    "    for item in F1:\n",
    "        buffer = []\n",
    "        buffer.append(item)\n",
    "        Fk_1.append(buffer)\n",
    "    print(\"                                              Frequent 1 Itemset\")\n",
    "    print(Fk_1)\n",
    "    print(\"\\n\")\n",
    "\n",
    "    all_frequent_item = dict()\n",
    "    k = 1\n",
    "    while len(Fk_1) != 0:\n",
    "     \n",
    "        ck = apriori_gen(Fk_1, k)\n",
    "        Fk = []\n",
    "\n",
    "        for c in ck:\n",
    "            count = 0\n",
    "            candidate = set(c)\n",
    "            for d in dataframe:\n",
    "                if candidate.issubset(d):\n",
    "                    count += 1\n",
    "            if count >= min_support:\n",
    "                sorting = sorted(candidate)\n",
    "                Fk.append(sorting)\n",
    "                all_frequent_item[tuple(c)] = count\n",
    "        if Fk == []:\n",
    "            print(\"                                              Frequent {} Itemset\".format(k+1))\n",
    "            print(\"None\")\n",
    "            print(\"\\n\")\n",
    "        else:\n",
    "            print(\"                                              Frequent {} Itemset\".format(k+1))\n",
    "            print(Fk)\n",
    "            print(\"\\n\")\n",
    "        Fk_1 = []\n",
    "        k += 1\n",
    "      \n",
    "        for item in Fk:\n",
    "            Fk_1.append(item)\n",
    "        \n",
    "    return(all_frequent_item)\n",
    "\n",
    "\n"
   ]
  },
  {
   "cell_type": "code",
   "execution_count": 109,
   "metadata": {},
   "outputs": [],
   "source": [
    "def get_association_rule():\n",
    "    frequent_item = get_frequent_set(min_support, dataframe)\n",
    "    count = 0\n",
    "    rule_count = 0\n",
    "    print(\"                                              Association Rules\")\n",
    "    for item in frequent_item:\n",
    "        count = 1\n",
    "        # print(\"item : {}\".format(item))\n",
    "        sup_b = frequent_item[item]\n",
    "        # print(item)\n",
    "        while count < len(item):\n",
    "            combo = generate_candidate(item,count)  # give us the possible combinations for item\n",
    "            # print(\"combo : {}\".format(combo))\n",
    "            count = count + 1\n",
    "            for c in combo:\n",
    "                a = []\n",
    "                sup_a = 0\n",
    "                b = []\n",
    "                \n",
    "                for i in c:\n",
    "                    a.append(i)\n",
    "                for data in dataframe:\n",
    "                        if set(a).issubset(data):\n",
    "                            sup_a = sup_a + 1 \n",
    "                 \n",
    "                confidence = 100*sup_b/sup_a\n",
    "                if confidence >= min_confidence:\n",
    "                    for sub_item in item: \n",
    "                        # print(\"a: {}\".format(a))\n",
    "                        # print(\"subitem: {}\".format(sub_item))\n",
    "                        if sub_item not in a:\n",
    "                            b.append(sub_item)\n",
    "                        # print(\"b : {}\".format(b))\n",
    "                    rule_count = rule_count + 1\n",
    "                    \n",
    "                    print(\"================== Rule {} =============================\".format(rule_count))\n",
    "                    print (\" {} ==> {}\".format(a,b))\n",
    "                    print(\"Support = {}\".format(sup_b))\n",
    "                    print(\"Condidence = {}%\".format(confidence))\n",
    "                    print(\"\\n\")\n",
    "                   \n",
    "                   "
   ]
  },
  {
   "cell_type": "code",
   "execution_count": 110,
   "metadata": {},
   "outputs": [
    {
     "output_type": "stream",
     "name": "stdout",
     "text": [
      "                                              Frequent 1 Itemset\n[['apple'], ['beer'], ['chicken'], ['fanta'], ['google'], ['mango'], ['milk'], ['rice']]\n\n\n                                              Frequent 2 Itemset\n[['apple', 'beer'], ['beer', 'chicken'], ['apple', 'fanta'], ['apple', 'mango'], ['fanta', 'mango'], ['beer', 'milk'], ['apple', 'rice'], ['beer', 'rice'], ['chicken', 'rice'], ['milk', 'rice']]\n\n\n                                              Frequent 3 Itemset\n[['apple', 'fanta', 'mango'], ['apple', 'beer', 'rice'], ['beer', 'chicken', 'rice'], ['beer', 'milk', 'rice']]\n\n\n                                              Frequent 4 Itemset\nNone\n\n\n                                              Association Rules\n================== Rule 1 =============================\n ['apple'] ==> ['beer']\nSupport = 3\nCondidence = 50.0%\n\n\n================== Rule 2 =============================\n ['beer'] ==> ['apple']\nSupport = 3\nCondidence = 50.0%\n\n\n================== Rule 3 =============================\n ['beer'] ==> ['chicken']\nSupport = 2\nCondidence = 33.333333333333336%\n\n\n================== Rule 4 =============================\n ['chicken'] ==> ['beer']\nSupport = 2\nCondidence = 100.0%\n\n\n================== Rule 5 =============================\n ['apple'] ==> ['fanta']\nSupport = 3\nCondidence = 50.0%\n\n\n================== Rule 6 =============================\n ['fanta'] ==> ['apple']\nSupport = 3\nCondidence = 100.0%\n\n\n================== Rule 7 =============================\n ['apple'] ==> ['mango']\nSupport = 3\nCondidence = 50.0%\n\n\n================== Rule 8 =============================\n ['mango'] ==> ['apple']\nSupport = 3\nCondidence = 75.0%\n\n\n================== Rule 9 =============================\n ['fanta'] ==> ['mango']\nSupport = 3\nCondidence = 100.0%\n\n\n================== Rule 10 =============================\n ['mango'] ==> ['fanta']\nSupport = 3\nCondidence = 75.0%\n\n\n================== Rule 11 =============================\n ['beer'] ==> ['milk']\nSupport = 3\nCondidence = 50.0%\n\n\n================== Rule 12 =============================\n ['milk'] ==> ['beer']\nSupport = 3\nCondidence = 75.0%\n\n\n================== Rule 13 =============================\n ['apple'] ==> ['rice']\nSupport = 2\nCondidence = 33.333333333333336%\n\n\n================== Rule 14 =============================\n ['rice'] ==> ['apple']\nSupport = 2\nCondidence = 50.0%\n\n\n================== Rule 15 =============================\n ['beer'] ==> ['rice']\nSupport = 4\nCondidence = 66.66666666666667%\n\n\n================== Rule 16 =============================\n ['rice'] ==> ['beer']\nSupport = 4\nCondidence = 100.0%\n\n\n================== Rule 17 =============================\n ['chicken'] ==> ['rice']\nSupport = 2\nCondidence = 100.0%\n\n\n================== Rule 18 =============================\n ['rice'] ==> ['chicken']\nSupport = 2\nCondidence = 50.0%\n\n\n================== Rule 19 =============================\n ['milk'] ==> ['rice']\nSupport = 2\nCondidence = 50.0%\n\n\n================== Rule 20 =============================\n ['rice'] ==> ['milk']\nSupport = 2\nCondidence = 50.0%\n\n\n================== Rule 21 =============================\n ['apple'] ==> ['fanta', 'mango']\nSupport = 3\nCondidence = 50.0%\n\n\n================== Rule 22 =============================\n ['fanta'] ==> ['apple', 'mango']\nSupport = 3\nCondidence = 100.0%\n\n\n================== Rule 23 =============================\n ['mango'] ==> ['apple', 'fanta']\nSupport = 3\nCondidence = 75.0%\n\n\n================== Rule 24 =============================\n ['apple', 'fanta'] ==> ['mango']\nSupport = 3\nCondidence = 100.0%\n\n\n================== Rule 25 =============================\n ['apple', 'mango'] ==> ['fanta']\nSupport = 3\nCondidence = 100.0%\n\n\n================== Rule 26 =============================\n ['mango', 'fanta'] ==> ['apple']\nSupport = 3\nCondidence = 100.0%\n\n\n================== Rule 27 =============================\n ['apple'] ==> ['beer', 'rice']\nSupport = 2\nCondidence = 33.333333333333336%\n\n\n================== Rule 28 =============================\n ['beer'] ==> ['apple', 'rice']\nSupport = 2\nCondidence = 33.333333333333336%\n\n\n================== Rule 29 =============================\n ['rice'] ==> ['apple', 'beer']\nSupport = 2\nCondidence = 50.0%\n\n\n================== Rule 30 =============================\n ['apple', 'beer'] ==> ['rice']\nSupport = 2\nCondidence = 66.66666666666667%\n\n\n================== Rule 31 =============================\n ['apple', 'rice'] ==> ['beer']\nSupport = 2\nCondidence = 100.0%\n\n\n================== Rule 32 =============================\n ['beer', 'rice'] ==> ['apple']\nSupport = 2\nCondidence = 50.0%\n\n\n================== Rule 33 =============================\n ['beer'] ==> ['chicken', 'rice']\nSupport = 2\nCondidence = 33.333333333333336%\n\n\n================== Rule 34 =============================\n ['chicken'] ==> ['beer', 'rice']\nSupport = 2\nCondidence = 100.0%\n\n\n================== Rule 35 =============================\n ['rice'] ==> ['beer', 'chicken']\nSupport = 2\nCondidence = 50.0%\n\n\n================== Rule 36 =============================\n ['beer', 'chicken'] ==> ['rice']\nSupport = 2\nCondidence = 100.0%\n\n\n================== Rule 37 =============================\n ['beer', 'rice'] ==> ['chicken']\nSupport = 2\nCondidence = 50.0%\n\n\n================== Rule 38 =============================\n ['rice', 'chicken'] ==> ['beer']\nSupport = 2\nCondidence = 100.0%\n\n\n================== Rule 39 =============================\n ['beer'] ==> ['milk', 'rice']\nSupport = 2\nCondidence = 33.333333333333336%\n\n\n================== Rule 40 =============================\n ['milk'] ==> ['beer', 'rice']\nSupport = 2\nCondidence = 50.0%\n\n\n================== Rule 41 =============================\n ['rice'] ==> ['beer', 'milk']\nSupport = 2\nCondidence = 50.0%\n\n\n================== Rule 42 =============================\n ['beer', 'milk'] ==> ['rice']\nSupport = 2\nCondidence = 66.66666666666667%\n\n\n================== Rule 43 =============================\n ['beer', 'rice'] ==> ['milk']\nSupport = 2\nCondidence = 50.0%\n\n\n================== Rule 44 =============================\n ['milk', 'rice'] ==> ['beer']\nSupport = 2\nCondidence = 100.0%\n\n\n"
     ]
    }
   ],
   "source": [
    "get_association_rule()"
   ]
  },
  {
   "cell_type": "code",
   "execution_count": null,
   "metadata": {},
   "outputs": [],
   "source": []
  }
 ]
}