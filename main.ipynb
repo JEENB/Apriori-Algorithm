{
 "metadata": {
  "language_info": {
   "codemirror_mode": {
    "name": "ipython",
    "version": 3
   },
   "file_extension": ".py",
   "mimetype": "text/x-python",
   "name": "python",
   "nbconvert_exporter": "python",
   "pygments_lexer": "ipython3",
   "version": "3.7.3-final"
  },
  "orig_nbformat": 2,
  "kernelspec": {
   "name": "python3",
   "display_name": "Python 3.7.3 32-bit",
   "metadata": {
    "interpreter": {
     "hash": "14ba8550e4b5297708c8210aad8b33fb7581226caaa50346e28971de3ff05e1f"
    }
   }
  }
 },
 "nbformat": 4,
 "nbformat_minor": 2,
 "cells": [
  {
   "source": [
    "# CS-2376 Apriori Algorithm\n",
    "### Team Members\n",
    "1. Jenish Raj Bajracharya\n",
    "2. Nidup Dorji\n",
    "3. Satpreet Makhija\n"
   ],
   "cell_type": "markdown",
   "metadata": {}
  },
  {
   "cell_type": "code",
   "execution_count": 1,
   "metadata": {},
   "outputs": [],
   "source": [
    "import pandas as pd\n",
    "import numpy as np\n",
    "import operator\n",
    "from itertools import combinations"
   ]
  },
  {
   "source": [
    "## Data Pre-processing\n",
    "1. Reading Data\n",
    "2. Getting unique dataset"
   ],
   "cell_type": "markdown",
   "metadata": {}
  },
  {
   "cell_type": "code",
   "execution_count": 2,
   "metadata": {
    "tags": []
   },
   "outputs": [],
   "source": [
    "dataframe = pd.read_csv(\"dataset/tesco2.csv\",  header=None)\n",
    "dataframe.head()\n",
    "dataframe = dataframe.values\n",
    "\n",
    "data = set()\n",
    "for items in dataframe:\n",
    "    for sub_item in items:\n",
    "        data.add(sub_item)\n",
    "# unique_data = list(data)\n",
    "# print(unique_data)\n",
    "\n"
   ]
  },
  {
   "cell_type": "code",
   "execution_count": 6,
   "metadata": {},
   "outputs": [
    {
     "output_type": "stream",
     "name": "stdout",
     "text": [
      "[('apple', 'beer'), ('apple', 'chicken'), ('apple', 'google'), ('apple', 'milk'), ('apple', 'mango'), ('apple', 'rice'), ('beer', 'chicken'), ('beer', 'google'), ('beer', 'milk'), ('beer', 'mango'), ('beer', 'rice'), ('chicken', 'google'), ('chicken', 'milk'), ('chicken', 'mango'), ('chicken', 'rice'), ('google', 'milk'), ('google', 'mango'), ('google', 'rice'), ('milk', 'mango'), ('milk', 'rice'), ('mango', 'rice')]\n"
     ]
    }
   ],
   "source": [
    "\n",
    "def get_frequent_set(min_support, dataframe,data):\n",
    "    temp_data = dict()\n",
    "    itemset = data\n",
    "    for i in itemset:\n",
    "        count = 0\n",
    "        for d in dataframe:\n",
    "            if i in d:\n",
    "                count += 1\n",
    "        temp_data[i] = count\n",
    "        if temp_data[i] < min_support:\n",
    "            temp_data.pop(i)\n",
    "\n",
    "    return sorted(temp_data.keys(), key=operator.itemgetter(0))\n",
    "\n",
    "\n",
    "# def get_item_combination():\n",
    "A1 = get_frequent_set(2, dataframe,data)\n",
    "powerset = list(combinations(A1,2))\n",
    "print (powerset)    \n"
   ]
  },
  {
   "cell_type": "code",
   "execution_count": null,
   "metadata": {},
   "outputs": [],
   "source": []
  }
 ]
}